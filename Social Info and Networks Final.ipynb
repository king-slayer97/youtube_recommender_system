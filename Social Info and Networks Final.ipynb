{
 "cells": [
  {
   "cell_type": "code",
   "execution_count": 1,
   "metadata": {
    "collapsed": false
   },
   "outputs": [
    {
     "name": "stdout",
     "output_type": "stream",
     "text": [
      "showing info https://raw.githubusercontent.com/nltk/nltk_data/gh-pages/index.xml\n"
     ]
    },
    {
     "data": {
      "text/plain": [
       "True"
      ]
     },
     "execution_count": 1,
     "metadata": {},
     "output_type": "execute_result"
    }
   ],
   "source": [
    "import nltk\n",
    "nltk.download()"
   ]
  },
  {
   "cell_type": "code",
   "execution_count": 1,
   "metadata": {
    "collapsed": false
   },
   "outputs": [
    {
     "name": "stdout",
     "output_type": "stream",
     "text": [
      "Loading...\n",
      "[[u'funny_story', u'good_story', u'funny_remark', u'funny'], [u'amusing', u'comic', u'comical', u'funny', u'laughable', u'mirthful', u'risible'], [u'curious', u'funny', u'odd', u'peculiar', u'queer', u'rum', u'rummy', u'singular'], [u'fishy', u'funny', u'shady', u'suspect', u'suspicious'], [u'funny']]\n"
     ]
    }
   ],
   "source": [
    "from nltk.corpus import wordnet as wnet\n",
    "print(\"Loading...\")\n",
    "lnames = []\n",
    "\n",
    "for i,j in enumerate(wnet.synsets('funny')):\n",
    "    lnames.append(j.lemma_names())\n",
    "print lnames"
   ]
  },
  {
   "cell_type": "code",
   "execution_count": 2,
   "metadata": {
    "collapsed": false
   },
   "outputs": [
    {
     "data": {
      "text/html": [
       "<div>\n",
       "<table border=\"1\" class=\"dataframe\">\n",
       "  <thead>\n",
       "    <tr style=\"text-align: right;\">\n",
       "      <th></th>\n",
       "      <th>Unnamed: 0</th>\n",
       "      <th>commentCount</th>\n",
       "      <th>dislikeCount</th>\n",
       "      <th>favoriteCount</th>\n",
       "      <th>likeCount</th>\n",
       "      <th>v_id</th>\n",
       "      <th>v_title</th>\n",
       "      <th>viewCount</th>\n",
       "    </tr>\n",
       "  </thead>\n",
       "  <tbody>\n",
       "    <tr>\n",
       "      <th>0</th>\n",
       "      <td>0.0</td>\n",
       "      <td>292</td>\n",
       "      <td>399</td>\n",
       "      <td>0</td>\n",
       "      <td>2100</td>\n",
       "      <td>df00BH6khRk</td>\n",
       "      <td>Try Not To Laugh:  Funny Fails May 2018 | Life...</td>\n",
       "      <td>658814</td>\n",
       "    </tr>\n",
       "    <tr>\n",
       "      <th>1</th>\n",
       "      <td>1.0</td>\n",
       "      <td>103</td>\n",
       "      <td>135</td>\n",
       "      <td>0</td>\n",
       "      <td>1135</td>\n",
       "      <td>fFLfaNz_QZc</td>\n",
       "      <td>TRY NOT TO LAUGH or GRIN: Funny Animals vs Kid...</td>\n",
       "      <td>254058</td>\n",
       "    </tr>\n",
       "    <tr>\n",
       "      <th>2</th>\n",
       "      <td>2.0</td>\n",
       "      <td>69</td>\n",
       "      <td>69</td>\n",
       "      <td>0</td>\n",
       "      <td>869</td>\n",
       "      <td>a7cZRqylsKc</td>\n",
       "      <td>TRY NOT TO LAUGH CHALLENGE - Ultimate EPIC FAI...</td>\n",
       "      <td>117640</td>\n",
       "    </tr>\n",
       "    <tr>\n",
       "      <th>3</th>\n",
       "      <td>3.0</td>\n",
       "      <td>2234</td>\n",
       "      <td>4292</td>\n",
       "      <td>0</td>\n",
       "      <td>43985</td>\n",
       "      <td>DkXlUNCN6VM</td>\n",
       "      <td>Just For Laughs Gags - Best Off</td>\n",
       "      <td>18549270</td>\n",
       "    </tr>\n",
       "    <tr>\n",
       "      <th>4</th>\n",
       "      <td>4.0</td>\n",
       "      <td>22</td>\n",
       "      <td>45</td>\n",
       "      <td>0</td>\n",
       "      <td>272</td>\n",
       "      <td>dsKTGMjFCv0</td>\n",
       "      <td>Julian Michael | Beautiful, Broke Husband | La...</td>\n",
       "      <td>8751</td>\n",
       "    </tr>\n",
       "  </tbody>\n",
       "</table>\n",
       "</div>"
      ],
      "text/plain": [
       "   Unnamed: 0 commentCount dislikeCount favoriteCount likeCount         v_id  \\\n",
       "0         0.0          292          399             0      2100  df00BH6khRk   \n",
       "1         1.0          103          135             0      1135  fFLfaNz_QZc   \n",
       "2         2.0           69           69             0       869  a7cZRqylsKc   \n",
       "3         3.0         2234         4292             0     43985  DkXlUNCN6VM   \n",
       "4         4.0           22           45             0       272  dsKTGMjFCv0   \n",
       "\n",
       "                                             v_title viewCount  \n",
       "0  Try Not To Laugh:  Funny Fails May 2018 | Life...    658814  \n",
       "1  TRY NOT TO LAUGH or GRIN: Funny Animals vs Kid...    254058  \n",
       "2  TRY NOT TO LAUGH CHALLENGE - Ultimate EPIC FAI...    117640  \n",
       "3                    Just For Laughs Gags - Best Off  18549270  \n",
       "4  Julian Michael | Beautiful, Broke Husband | La...      8751  "
      ]
     },
     "execution_count": 2,
     "metadata": {},
     "output_type": "execute_result"
    }
   ],
   "source": [
    "import pandas as pd \n",
    "\n",
    "dfr = pd.read_csv('YTlaughable123.csv', encoding='utf-8')\n",
    "\n",
    "dropped_df = dfr.drop_duplicates(['v_title'])\n",
    "\n",
    "dropped_df.head()"
   ]
  },
  {
   "cell_type": "code",
   "execution_count": 3,
   "metadata": {
    "collapsed": false
   },
   "outputs": [
    {
     "data": {
      "text/plain": [
       "(1826, 8)"
      ]
     },
     "execution_count": 3,
     "metadata": {},
     "output_type": "execute_result"
    }
   ],
   "source": [
    "dropped_df.shape"
   ]
  },
  {
   "cell_type": "code",
   "execution_count": 4,
   "metadata": {
    "collapsed": false
   },
   "outputs": [
    {
     "data": {
      "text/html": [
       "<div>\n",
       "<table border=\"1\" class=\"dataframe\">\n",
       "  <thead>\n",
       "    <tr style=\"text-align: right;\">\n",
       "      <th></th>\n",
       "      <th>users</th>\n",
       "      <th>v_title</th>\n",
       "      <th>Liked</th>\n",
       "    </tr>\n",
       "  </thead>\n",
       "  <tbody>\n",
       "    <tr>\n",
       "      <th>535</th>\n",
       "      <td>MarkZ</td>\n",
       "      <td>TRY NOT TO LAUGH Funny Animals Vines Compilati...</td>\n",
       "      <td>1</td>\n",
       "    </tr>\n",
       "    <tr>\n",
       "      <th>76</th>\n",
       "      <td>Kathir</td>\n",
       "      <td>Kissing Prank - Socks EDITION - Prank Invasion...</td>\n",
       "      <td>1</td>\n",
       "    </tr>\n",
       "    <tr>\n",
       "      <th>520</th>\n",
       "      <td>MarkZ</td>\n",
       "      <td>TRY NOT TO LAUGH or GRIN: Funny Fails Vines Co...</td>\n",
       "      <td>1</td>\n",
       "    </tr>\n",
       "    <tr>\n",
       "      <th>91</th>\n",
       "      <td>Kathir</td>\n",
       "      <td>DJANI LYRICS PRANK NA MOJOJ BIVSOJ DJEVOJCI !</td>\n",
       "      <td>0</td>\n",
       "    </tr>\n",
       "    <tr>\n",
       "      <th>336</th>\n",
       "      <td>Chris</td>\n",
       "      <td>Try Not To Laugh or Grin - BEST Facebook &amp; Ins...</td>\n",
       "      <td>1</td>\n",
       "    </tr>\n",
       "    <tr>\n",
       "      <th>486</th>\n",
       "      <td>Patrick</td>\n",
       "      <td>DJANI LYRICS PRANK NA MOJOJ BIVSOJ DJEVOJCI !</td>\n",
       "      <td>1</td>\n",
       "    </tr>\n",
       "    <tr>\n",
       "      <th>262</th>\n",
       "      <td>MSD</td>\n",
       "      <td>TATTOO PRANK!! (GONE WRONG)</td>\n",
       "      <td>0</td>\n",
       "    </tr>\n",
       "    <tr>\n",
       "      <th>24</th>\n",
       "      <td>Kathir</td>\n",
       "      <td>THE BOSS BABY Craziness #1 | TRY TO LAUGH | Th...</td>\n",
       "      <td>0</td>\n",
       "    </tr>\n",
       "    <tr>\n",
       "      <th>162</th>\n",
       "      <td>Sundhar</td>\n",
       "      <td>Asian Nintendo Switch Addiction Prank</td>\n",
       "      <td>0</td>\n",
       "    </tr>\n",
       "    <tr>\n",
       "      <th>418</th>\n",
       "      <td>Patrick</td>\n",
       "      <td>RUDE: NATO Leaders Laughing at President Donal...</td>\n",
       "      <td>0</td>\n",
       "    </tr>\n",
       "    <tr>\n",
       "      <th>523</th>\n",
       "      <td>MarkZ</td>\n",
       "      <td>*TRY NOT TO LAUGH or GRIN* Ultimate Funny Vine...</td>\n",
       "      <td>1</td>\n",
       "    </tr>\n",
       "    <tr>\n",
       "      <th>121</th>\n",
       "      <td>Sundhar</td>\n",
       "      <td>If you don't laugh, you have no soul...Part 3</td>\n",
       "      <td>0</td>\n",
       "    </tr>\n",
       "    <tr>\n",
       "      <th>251</th>\n",
       "      <td>MSD</td>\n",
       "      <td>CAUGHT CHEATING on my Girlfriend PRANK!</td>\n",
       "      <td>1</td>\n",
       "    </tr>\n",
       "    <tr>\n",
       "      <th>136</th>\n",
       "      <td>Sundhar</td>\n",
       "      <td>TRY NOT TO LAUGH or GRIN: Funny Kids Fails Com...</td>\n",
       "      <td>0</td>\n",
       "    </tr>\n",
       "    <tr>\n",
       "      <th>313</th>\n",
       "      <td>Chris</td>\n",
       "      <td>LAUGH LIKE NEVER BEFORE - Funniest ANIMAL comp...</td>\n",
       "      <td>0</td>\n",
       "    </tr>\n",
       "    <tr>\n",
       "      <th>79</th>\n",
       "      <td>Kathir</td>\n",
       "      <td>PIZZA DELIVERY PRANK ON MY GIRLFRIEND'S STALKE...</td>\n",
       "      <td>1</td>\n",
       "    </tr>\n",
       "    <tr>\n",
       "      <th>577</th>\n",
       "      <td>MarkZ</td>\n",
       "      <td>SLIME PRANK ON BROTHERS CAR!</td>\n",
       "      <td>0</td>\n",
       "    </tr>\n",
       "    <tr>\n",
       "      <th>563</th>\n",
       "      <td>MarkZ</td>\n",
       "      <td>GOLD DIGGER PRANK PART 3! | HoomanTV</td>\n",
       "      <td>1</td>\n",
       "    </tr>\n",
       "    <tr>\n",
       "      <th>178</th>\n",
       "      <td>Sundhar</td>\n",
       "      <td>PIZZA DELIVERY PRANK ON MY GIRLFRIEND'S STALKE...</td>\n",
       "      <td>1</td>\n",
       "    </tr>\n",
       "    <tr>\n",
       "      <th>449</th>\n",
       "      <td>Patrick</td>\n",
       "      <td>CAUGHT CHEATING on my Girlfriend PRANK!</td>\n",
       "      <td>1</td>\n",
       "    </tr>\n",
       "    <tr>\n",
       "      <th>476</th>\n",
       "      <td>Patrick</td>\n",
       "      <td>we got KICKED OUT of our home! (PRANK WARS)</td>\n",
       "      <td>0</td>\n",
       "    </tr>\n",
       "    <tr>\n",
       "      <th>492</th>\n",
       "      <td>Patrick</td>\n",
       "      <td>Epic Prank Compilation: Parents Prank Kids</td>\n",
       "      <td>1</td>\n",
       "    </tr>\n",
       "    <tr>\n",
       "      <th>218</th>\n",
       "      <td>MSD</td>\n",
       "      <td>You laugh you lose #17 - Try not to laugh chal...</td>\n",
       "      <td>0</td>\n",
       "    </tr>\n",
       "    <tr>\n",
       "      <th>516</th>\n",
       "      <td>MarkZ</td>\n",
       "      <td>If you don't laugh, you have no soul...Part 3</td>\n",
       "      <td>1</td>\n",
       "    </tr>\n",
       "    <tr>\n",
       "      <th>284</th>\n",
       "      <td>MSD</td>\n",
       "      <td>SHAMPOO PRANK PART 9! | HoomanTV</td>\n",
       "      <td>1</td>\n",
       "    </tr>\n",
       "    <tr>\n",
       "      <th>98</th>\n",
       "      <td>Kathir</td>\n",
       "      <td>10 PRANK SERU YG GAMPANG DILAKUKAN DI RUMAH TA...</td>\n",
       "      <td>0</td>\n",
       "    </tr>\n",
       "    <tr>\n",
       "      <th>429</th>\n",
       "      <td>Patrick</td>\n",
       "      <td>You laugh you lose #16 - Try not to laugh chal...</td>\n",
       "      <td>0</td>\n",
       "    </tr>\n",
       "    <tr>\n",
       "      <th>354</th>\n",
       "      <td>Chris</td>\n",
       "      <td>ITCHING BAIT PHONE PRANK!!</td>\n",
       "      <td>1</td>\n",
       "    </tr>\n",
       "    <tr>\n",
       "      <th>47</th>\n",
       "      <td>Kathir</td>\n",
       "      <td>Try Not To Laugh or Grin: Funny Vines Compilat...</td>\n",
       "      <td>1</td>\n",
       "    </tr>\n",
       "    <tr>\n",
       "      <th>389</th>\n",
       "      <td>Chris</td>\n",
       "      <td>FIDGET SPINNER IN HAPPY MEAL PRANK</td>\n",
       "      <td>1</td>\n",
       "    </tr>\n",
       "    <tr>\n",
       "      <th>...</th>\n",
       "      <td>...</td>\n",
       "      <td>...</td>\n",
       "      <td>...</td>\n",
       "    </tr>\n",
       "    <tr>\n",
       "      <th>571</th>\n",
       "      <td>MarkZ</td>\n",
       "      <td>FUNNY PRANKS!! ROOMMATE WARS!! Alisha Marie</td>\n",
       "      <td>0</td>\n",
       "    </tr>\n",
       "    <tr>\n",
       "      <th>158</th>\n",
       "      <td>Sundhar</td>\n",
       "      <td>Break Up PRANK turns into PROPOSAL! GONE WRONG!</td>\n",
       "      <td>0</td>\n",
       "    </tr>\n",
       "    <tr>\n",
       "      <th>540</th>\n",
       "      <td>MarkZ</td>\n",
       "      <td>TRY NOT TO LAUGH or GRIN - Funny Fails Compila...</td>\n",
       "      <td>1</td>\n",
       "    </tr>\n",
       "    <tr>\n",
       "      <th>135</th>\n",
       "      <td>Sundhar</td>\n",
       "      <td>If you don't laugh, you have no soul...</td>\n",
       "      <td>0</td>\n",
       "    </tr>\n",
       "    <tr>\n",
       "      <th>451</th>\n",
       "      <td>Patrick</td>\n",
       "      <td>CUTTING HEADPHONES AT GYM PRANK - 2017 Pranks</td>\n",
       "      <td>1</td>\n",
       "    </tr>\n",
       "    <tr>\n",
       "      <th>553</th>\n",
       "      <td>MarkZ</td>\n",
       "      <td>Break Up PRANK turns into PROPOSAL! GONE WRONG!</td>\n",
       "      <td>1</td>\n",
       "    </tr>\n",
       "    <tr>\n",
       "      <th>225</th>\n",
       "      <td>MSD</td>\n",
       "      <td>Try Not To Laugh - Funny Animals Compilation 2...</td>\n",
       "      <td>0</td>\n",
       "    </tr>\n",
       "    <tr>\n",
       "      <th>558</th>\n",
       "      <td>MarkZ</td>\n",
       "      <td>Bait Backpack Water Balloon Prank</td>\n",
       "      <td>1</td>\n",
       "    </tr>\n",
       "    <tr>\n",
       "      <th>326</th>\n",
       "      <td>Chris</td>\n",
       "      <td>TRY NOT TO LAUGH or GRIN Watching Funny Kids F...</td>\n",
       "      <td>0</td>\n",
       "    </tr>\n",
       "    <tr>\n",
       "      <th>345</th>\n",
       "      <td>Chris</td>\n",
       "      <td>TRY NOT TO LAUGH (IMPOSSIBLE CHALLENGE) PART 2</td>\n",
       "      <td>1</td>\n",
       "    </tr>\n",
       "    <tr>\n",
       "      <th>378</th>\n",
       "      <td>Chris</td>\n",
       "      <td>Killer Clown 9 Scare Prank - Shadow Plays</td>\n",
       "      <td>1</td>\n",
       "    </tr>\n",
       "    <tr>\n",
       "      <th>275</th>\n",
       "      <td>MSD</td>\n",
       "      <td>Headless man Prank part 2 (slaughter version)-...</td>\n",
       "      <td>0</td>\n",
       "    </tr>\n",
       "    <tr>\n",
       "      <th>397</th>\n",
       "      <td>Patrick</td>\n",
       "      <td>IMPOSSIBLE NOT TO LAUGH - Funny school fail co...</td>\n",
       "      <td>1</td>\n",
       "    </tr>\n",
       "    <tr>\n",
       "      <th>432</th>\n",
       "      <td>Patrick</td>\n",
       "      <td>TRY NOT TO LAUGH or GRIN: Funny Kids Fails Com...</td>\n",
       "      <td>1</td>\n",
       "    </tr>\n",
       "    <tr>\n",
       "      <th>64</th>\n",
       "      <td>Kathir</td>\n",
       "      <td>Bait Backpack Water Balloon Prank</td>\n",
       "      <td>0</td>\n",
       "    </tr>\n",
       "    <tr>\n",
       "      <th>258</th>\n",
       "      <td>MSD</td>\n",
       "      <td>BREAKING UP WITH MY GIRLFRIEND *PRANK* GONE WRONG</td>\n",
       "      <td>0</td>\n",
       "    </tr>\n",
       "    <tr>\n",
       "      <th>306</th>\n",
       "      <td>Chris</td>\n",
       "      <td>Kpop Try Not To Laugh Challenge #8</td>\n",
       "      <td>0</td>\n",
       "    </tr>\n",
       "    <tr>\n",
       "      <th>347</th>\n",
       "      <td>Chris</td>\n",
       "      <td>Caught My Girlfriend Cheating Prank!</td>\n",
       "      <td>1</td>\n",
       "    </tr>\n",
       "    <tr>\n",
       "      <th>203</th>\n",
       "      <td>MSD</td>\n",
       "      <td>TRY NOT TO LAUGH or GRIN: Funny Pranks Vines C...</td>\n",
       "      <td>0</td>\n",
       "    </tr>\n",
       "    <tr>\n",
       "      <th>307</th>\n",
       "      <td>Chris</td>\n",
       "      <td>Try Not To Laugh or Grin While Watching Funny ...</td>\n",
       "      <td>0</td>\n",
       "    </tr>\n",
       "    <tr>\n",
       "      <th>592</th>\n",
       "      <td>MarkZ</td>\n",
       "      <td>10 PRANK SERU YG GAMPANG DILAKUKAN DI RUMAH TA...</td>\n",
       "      <td>1</td>\n",
       "    </tr>\n",
       "    <tr>\n",
       "      <th>385</th>\n",
       "      <td>Chris</td>\n",
       "      <td>I WANT TO MAKE A BABY WITH YOU PRANK!! (CRYING)</td>\n",
       "      <td>1</td>\n",
       "    </tr>\n",
       "    <tr>\n",
       "      <th>175</th>\n",
       "      <td>Sundhar</td>\n",
       "      <td>Kissing Prank - Socks EDITION - Prank Invasion...</td>\n",
       "      <td>0</td>\n",
       "    </tr>\n",
       "    <tr>\n",
       "      <th>69</th>\n",
       "      <td>Kathir</td>\n",
       "      <td>GOLD DIGGER PRANK PART 3! | HoomanTV</td>\n",
       "      <td>1</td>\n",
       "    </tr>\n",
       "    <tr>\n",
       "      <th>260</th>\n",
       "      <td>MSD</td>\n",
       "      <td>Asian Nintendo Switch Addiction Prank</td>\n",
       "      <td>0</td>\n",
       "    </tr>\n",
       "    <tr>\n",
       "      <th>161</th>\n",
       "      <td>Sundhar</td>\n",
       "      <td>My BRO has to STOP **PRANK!**</td>\n",
       "      <td>0</td>\n",
       "    </tr>\n",
       "    <tr>\n",
       "      <th>271</th>\n",
       "      <td>MSD</td>\n",
       "      <td>GOLD DIGGER PRANK PART 2! | HoomanTV</td>\n",
       "      <td>0</td>\n",
       "    </tr>\n",
       "    <tr>\n",
       "      <th>256</th>\n",
       "      <td>MSD</td>\n",
       "      <td>Break Up PRANK turns into PROPOSAL! GONE WRONG!</td>\n",
       "      <td>1</td>\n",
       "    </tr>\n",
       "    <tr>\n",
       "      <th>542</th>\n",
       "      <td>MarkZ</td>\n",
       "      <td>Try to Watch This Without Laughing or Grinning...</td>\n",
       "      <td>1</td>\n",
       "    </tr>\n",
       "    <tr>\n",
       "      <th>396</th>\n",
       "      <td>Patrick</td>\n",
       "      <td>Try Not To Laugh Challenge #4</td>\n",
       "      <td>1</td>\n",
       "    </tr>\n",
       "  </tbody>\n",
       "</table>\n",
       "<p>593 rows × 3 columns</p>\n",
       "</div>"
      ],
      "text/plain": [
       "       users                                            v_title  Liked\n",
       "535    MarkZ  TRY NOT TO LAUGH Funny Animals Vines Compilati...      1\n",
       "76    Kathir  Kissing Prank - Socks EDITION - Prank Invasion...      1\n",
       "520    MarkZ  TRY NOT TO LAUGH or GRIN: Funny Fails Vines Co...      1\n",
       "91    Kathir      DJANI LYRICS PRANK NA MOJOJ BIVSOJ DJEVOJCI !      0\n",
       "336    Chris  Try Not To Laugh or Grin - BEST Facebook & Ins...      1\n",
       "486  Patrick      DJANI LYRICS PRANK NA MOJOJ BIVSOJ DJEVOJCI !      1\n",
       "262      MSD                        TATTOO PRANK!! (GONE WRONG)      0\n",
       "24    Kathir  THE BOSS BABY Craziness #1 | TRY TO LAUGH | Th...      0\n",
       "162  Sundhar              Asian Nintendo Switch Addiction Prank      0\n",
       "418  Patrick  RUDE: NATO Leaders Laughing at President Donal...      0\n",
       "523    MarkZ  *TRY NOT TO LAUGH or GRIN* Ultimate Funny Vine...      1\n",
       "121  Sundhar      If you don't laugh, you have no soul...Part 3      0\n",
       "251      MSD            CAUGHT CHEATING on my Girlfriend PRANK!      1\n",
       "136  Sundhar  TRY NOT TO LAUGH or GRIN: Funny Kids Fails Com...      0\n",
       "313    Chris  LAUGH LIKE NEVER BEFORE - Funniest ANIMAL comp...      0\n",
       "79    Kathir  PIZZA DELIVERY PRANK ON MY GIRLFRIEND'S STALKE...      1\n",
       "577    MarkZ                       SLIME PRANK ON BROTHERS CAR!      0\n",
       "563    MarkZ               GOLD DIGGER PRANK PART 3! | HoomanTV      1\n",
       "178  Sundhar  PIZZA DELIVERY PRANK ON MY GIRLFRIEND'S STALKE...      1\n",
       "449  Patrick            CAUGHT CHEATING on my Girlfriend PRANK!      1\n",
       "476  Patrick        we got KICKED OUT of our home! (PRANK WARS)      0\n",
       "492  Patrick         Epic Prank Compilation: Parents Prank Kids      1\n",
       "218      MSD  You laugh you lose #17 - Try not to laugh chal...      0\n",
       "516    MarkZ      If you don't laugh, you have no soul...Part 3      1\n",
       "284      MSD                   SHAMPOO PRANK PART 9! | HoomanTV      1\n",
       "98    Kathir  10 PRANK SERU YG GAMPANG DILAKUKAN DI RUMAH TA...      0\n",
       "429  Patrick  You laugh you lose #16 - Try not to laugh chal...      0\n",
       "354    Chris                         ITCHING BAIT PHONE PRANK!!      1\n",
       "47    Kathir  Try Not To Laugh or Grin: Funny Vines Compilat...      1\n",
       "389    Chris                 FIDGET SPINNER IN HAPPY MEAL PRANK      1\n",
       "..       ...                                                ...    ...\n",
       "571    MarkZ        FUNNY PRANKS!! ROOMMATE WARS!! Alisha Marie      0\n",
       "158  Sundhar    Break Up PRANK turns into PROPOSAL! GONE WRONG!      0\n",
       "540    MarkZ  TRY NOT TO LAUGH or GRIN - Funny Fails Compila...      1\n",
       "135  Sundhar            If you don't laugh, you have no soul...      0\n",
       "451  Patrick      CUTTING HEADPHONES AT GYM PRANK - 2017 Pranks      1\n",
       "553    MarkZ    Break Up PRANK turns into PROPOSAL! GONE WRONG!      1\n",
       "225      MSD  Try Not To Laugh - Funny Animals Compilation 2...      0\n",
       "558    MarkZ                  Bait Backpack Water Balloon Prank      1\n",
       "326    Chris  TRY NOT TO LAUGH or GRIN Watching Funny Kids F...      0\n",
       "345    Chris     TRY NOT TO LAUGH (IMPOSSIBLE CHALLENGE) PART 2      1\n",
       "378    Chris          Killer Clown 9 Scare Prank - Shadow Plays      1\n",
       "275      MSD  Headless man Prank part 2 (slaughter version)-...      0\n",
       "397  Patrick  IMPOSSIBLE NOT TO LAUGH - Funny school fail co...      1\n",
       "432  Patrick  TRY NOT TO LAUGH or GRIN: Funny Kids Fails Com...      1\n",
       "64    Kathir                  Bait Backpack Water Balloon Prank      0\n",
       "258      MSD  BREAKING UP WITH MY GIRLFRIEND *PRANK* GONE WRONG      0\n",
       "306    Chris                 Kpop Try Not To Laugh Challenge #8      0\n",
       "347    Chris               Caught My Girlfriend Cheating Prank!      1\n",
       "203      MSD  TRY NOT TO LAUGH or GRIN: Funny Pranks Vines C...      0\n",
       "307    Chris  Try Not To Laugh or Grin While Watching Funny ...      0\n",
       "592    MarkZ  10 PRANK SERU YG GAMPANG DILAKUKAN DI RUMAH TA...      1\n",
       "385    Chris    I WANT TO MAKE A BABY WITH YOU PRANK!! (CRYING)      1\n",
       "175  Sundhar  Kissing Prank - Socks EDITION - Prank Invasion...      0\n",
       "69    Kathir               GOLD DIGGER PRANK PART 3! | HoomanTV      1\n",
       "260      MSD              Asian Nintendo Switch Addiction Prank      0\n",
       "161  Sundhar                      My BRO has to STOP **PRANK!**      0\n",
       "271      MSD               GOLD DIGGER PRANK PART 2! | HoomanTV      0\n",
       "256      MSD    Break Up PRANK turns into PROPOSAL! GONE WRONG!      1\n",
       "542    MarkZ  Try to Watch This Without Laughing or Grinning...      1\n",
       "396  Patrick                      Try Not To Laugh Challenge #4      1\n",
       "\n",
       "[593 rows x 3 columns]"
      ]
     },
     "execution_count": 4,
     "metadata": {},
     "output_type": "execute_result"
    }
   ],
   "source": [
    "import pandas as pd \n",
    "import graphlab \n",
    "\n",
    "n_df = pd.read_csv('users5times100Videos.csv', encoding='utf-8')\n",
    "from sklearn.utils import shuffle\n",
    "n_df = shuffle(n_df) \n",
    "n_df"
   ]
  },
  {
   "cell_type": "code",
   "execution_count": 5,
   "metadata": {
    "collapsed": false
   },
   "outputs": [
    {
     "name": "stdout",
     "output_type": "stream",
     "text": [
      "This non-commercial license of GraphLab Create for academic use is assigned to sandeep.harikrishnan2016@vitstudent.ac.in and will expire on July 27, 2019.\n"
     ]
    },
    {
     "name": "stderr",
     "output_type": "stream",
     "text": [
      "[INFO] graphlab.cython.cy_server: GraphLab Create v2.1 started. Logging: C:\\Users\\Sandeep\\AppData\\Local\\Temp\\graphlab_server_1540986692.log.0\n"
     ]
    },
    {
     "data": {
      "text/html": [
       "<pre>Recsys training: model = popularity</pre>"
      ],
      "text/plain": [
       "Recsys training: model = popularity"
      ]
     },
     "metadata": {},
     "output_type": "display_data"
    },
    {
     "data": {
      "text/html": [
       "<pre>Preparing data set.</pre>"
      ],
      "text/plain": [
       "Preparing data set."
      ]
     },
     "metadata": {},
     "output_type": "display_data"
    },
    {
     "data": {
      "text/html": [
       "<pre>    Data has 240 observations with 6 users and 93 items.</pre>"
      ],
      "text/plain": [
       "    Data has 240 observations with 6 users and 93 items."
      ]
     },
     "metadata": {},
     "output_type": "display_data"
    },
    {
     "data": {
      "text/html": [
       "<pre>    Data prepared in: 0.015709s</pre>"
      ],
      "text/plain": [
       "    Data prepared in: 0.015709s"
      ]
     },
     "metadata": {},
     "output_type": "display_data"
    },
    {
     "data": {
      "text/html": [
       "<pre>240 observations to process; with 93 unique items.</pre>"
      ],
      "text/plain": [
       "240 observations to process; with 93 unique items."
      ]
     },
     "metadata": {},
     "output_type": "display_data"
    }
   ],
   "source": [
    "train = n_df.ix[:250,:]\n",
    "test = n_df.ix[250:,:]\n",
    "train_data = graphlab.SFrame(train)\n",
    "test_data = graphlab.SFrame(test)\n",
    "popularity_model = graphlab.popularity_recommender.create(train_data, user_id='users', item_id='v_title', target='Liked')"
   ]
  },
  {
   "cell_type": "code",
   "execution_count": 6,
   "metadata": {
    "collapsed": false
   },
   "outputs": [
    {
     "name": "stdout",
     "output_type": "stream",
     "text": [
      "+--------+-------------------------------+-------+------+\n",
      "| users  |            v_title            | score | rank |\n",
      "+--------+-------------------------------+-------+------+\n",
      "| Kathir | MOR FORELSKET I ALBERT! (P... |  1.0  |  1   |\n",
      "| Kathir | TRY NOT TO LAUGH or GRIN -... |  1.0  |  2   |\n",
      "| Kathir | CUTTING HEADPHONES AT GYM ... |  1.0  |  3   |\n",
      "| Kathir | TRY NOT TO LAUGH or GRIN: ... |  1.0  |  4   |\n",
      "| Kathir | 1 MILLION ORBEEZ IN GIRLFR... |  1.0  |  5   |\n",
      "| Kathir | I WANT TO MAKE A BABY WITH... |  1.0  |  6   |\n",
      "| Kathir |    TYVERI PRANK PÅ KRISTIAN   |  1.0  |  7   |\n",
      "| Kathir | PRANK VOLER LA VOITURE DES... |  1.0  |  8   |\n",
      "| Kathir | THE WORST PRANK OF ALL TIM... |  1.0  |  9   |\n",
      "| Kathir | CAUGHT CHEATING on my Girl... |  1.0  |  10  |\n",
      "|  MSD   | TRY NOT TO LAUGH or GRIN: ... |  1.0  |  1   |\n",
      "|  MSD   | 1 MILLION ORBEEZ IN GIRLFR... |  1.0  |  2   |\n",
      "|  MSD   | I WANT TO MAKE A BABY WITH... |  1.0  |  3   |\n",
      "|  MSD   | THE BEST PRANK OF ALL TIME!!! |  1.0  |  4   |\n",
      "|  MSD   |    TYVERI PRANK PÅ KRISTIAN   |  1.0  |  5   |\n",
      "|  MSD   | IMPOSSIBLE NOT TO LAUGH - ... |  1.0  |  6   |\n",
      "|  MSD   | Caught My Girlfriend Cheat... |  1.0  |  7   |\n",
      "|  MSD   | THE WORST PRANK OF ALL TIM... |  1.0  |  8   |\n",
      "|  MSD   | Try Not To Laugh or Grin: ... |  1.0  |  9   |\n",
      "|  MSD   | Kissing Prank - Socks EDIT... |  1.0  |  10  |\n",
      "| MarkZ  | TRY NOT TO LAUGH or GRIN: ... |  1.0  |  1   |\n",
      "| MarkZ  | 1 MILLION ORBEEZ IN GIRLFR... |  1.0  |  2   |\n",
      "| MarkZ  | I WANT TO MAKE A BABY WITH... |  1.0  |  3   |\n",
      "| MarkZ  | THE BEST PRANK OF ALL TIME!!! |  1.0  |  4   |\n",
      "| MarkZ  |    TYVERI PRANK PÅ KRISTIAN   |  1.0  |  5   |\n",
      "+--------+-------------------------------+-------+------+\n",
      "[60 rows x 4 columns]\n",
      "\n"
     ]
    }
   ],
   "source": [
    "#Get recommendations for first 5 users and print them\n",
    "#users = range(1,6) specifies user ID of first 5 users\n",
    "#k=5 specifies top 5 recommendations to be given\n",
    "u_names = ['Kathir','MSD','MarkZ','Chris','Sundhar','Patrick']\n",
    "popularity_recomm = popularity_model.recommend(users=u_names,k=10)\n",
    "popularity_recomm.print_rows(num_rows=25)"
   ]
  },
  {
   "cell_type": "code",
   "execution_count": 7,
   "metadata": {
    "collapsed": false
   },
   "outputs": [
    {
     "data": {
      "text/plain": [
       "v_title\n",
       "*I BET  MY KIDNEY YOU WILL LAUGH**                                                                      1.0\n",
       "Naga Chaitanya Prank call to Samantha | Samantha`s epic punch | MUST WATCH | rarandoi veduka chuddam    1.0\n",
       "Kissing Prank - Socks EDITION - Prank Invasion 2017                                                     1.0\n",
       "TRY NOT TO LAUGH or GRIN: Funny Fails Compilation 2017 - Top 100 Funny Fails Vines Video Ever           1.0\n",
       "IMPOSSIBLE NOT TO LAUGH - Funny school fail compilation                                                 1.0\n",
       "TRY NOT TO LAUGH or GRIN: Funny Kids Fails Compilation 2017 | Best Kids Fails Vines of May 2017         1.0\n",
       "I WANT TO MAKE A BABY WITH YOU PRANK!! (CRYING)                                                         1.0\n",
       "TYVERI PRANK PÅ KRISTIAN                                                                                1.0\n",
       "The Best Try Not To Laugh of May 2017 (Dank Memes Edition) Part 2                                       1.0\n",
       "TRY NOT TO LAUGH or GRIN - Funny Fails Compilation 2017                                                 1.0\n",
       "TRY NOT TO LAUGH or GRIN: Funny Animals Vines Compilation 2017 | Funny Animals and Kids Fails Vines     1.0\n",
       "Try Not To Laugh Funny Animals Vines - Best Vine Compilation 2017 | Funny Kids at the Zoo Edition       1.0\n",
       "PRANK VOLER LA VOITURE DES GENS                                                                         1.0\n",
       "THE BEST PRANK OF ALL TIME!!!                                                                           1.0\n",
       "Try Not To Laugh or Grin: Funny Vines Compilation 2017 | Best Facebook & Instagram Vines May 2017       1.0\n",
       "Try Not To Laugh: SAVAGE 100000000% EDITION                                                             1.0\n",
       "Caught My Girlfriend Cheating Prank!                                                                    1.0\n",
       "THE WORST PRANK OF ALL TIME!!!! (EPIC FAIL)                                                             1.0\n",
       "CUTTING HEADPHONES AT GYM PRANK - 2017 Pranks                                                           1.0\n",
       "CAUGHT CHEATING on my Girlfriend PRANK!                                                                 1.0\n",
       "Name: Liked, dtype: float64"
      ]
     },
     "execution_count": 7,
     "metadata": {},
     "output_type": "execute_result"
    }
   ],
   "source": [
    "train.groupby(by='v_title')['Liked'].mean().sort_values(ascending=False).head(20)"
   ]
  },
  {
   "cell_type": "code",
   "execution_count": 13,
   "metadata": {
    "collapsed": false
   },
   "outputs": [
    {
     "data": {
      "text/html": [
       "<pre>Recsys training: model = item_similarity</pre>"
      ],
      "text/plain": [
       "Recsys training: model = item_similarity"
      ]
     },
     "metadata": {},
     "output_type": "display_data"
    },
    {
     "data": {
      "text/html": [
       "<pre>Preparing data set.</pre>"
      ],
      "text/plain": [
       "Preparing data set."
      ]
     },
     "metadata": {},
     "output_type": "display_data"
    },
    {
     "data": {
      "text/html": [
       "<pre>    Data has 240 observations with 6 users and 93 items.</pre>"
      ],
      "text/plain": [
       "    Data has 240 observations with 6 users and 93 items."
      ]
     },
     "metadata": {},
     "output_type": "display_data"
    },
    {
     "data": {
      "text/html": [
       "<pre>    Data prepared in: 0.007997s</pre>"
      ],
      "text/plain": [
       "    Data prepared in: 0.007997s"
      ]
     },
     "metadata": {},
     "output_type": "display_data"
    },
    {
     "data": {
      "text/html": [
       "<pre>Training model from provided data.</pre>"
      ],
      "text/plain": [
       "Training model from provided data."
      ]
     },
     "metadata": {},
     "output_type": "display_data"
    },
    {
     "data": {
      "text/html": [
       "<pre>Gathering per-item and per-user statistics.</pre>"
      ],
      "text/plain": [
       "Gathering per-item and per-user statistics."
      ]
     },
     "metadata": {},
     "output_type": "display_data"
    },
    {
     "data": {
      "text/html": [
       "<pre>+--------------------------------+------------+</pre>"
      ],
      "text/plain": [
       "+--------------------------------+------------+"
      ]
     },
     "metadata": {},
     "output_type": "display_data"
    },
    {
     "data": {
      "text/html": [
       "<pre>| Elapsed Time (Item Statistics) | % Complete |</pre>"
      ],
      "text/plain": [
       "| Elapsed Time (Item Statistics) | % Complete |"
      ]
     },
     "metadata": {},
     "output_type": "display_data"
    },
    {
     "data": {
      "text/html": [
       "<pre>+--------------------------------+------------+</pre>"
      ],
      "text/plain": [
       "+--------------------------------+------------+"
      ]
     },
     "metadata": {},
     "output_type": "display_data"
    },
    {
     "data": {
      "text/html": [
       "<pre>| 0us                            | 100        |</pre>"
      ],
      "text/plain": [
       "| 0us                            | 100        |"
      ]
     },
     "metadata": {},
     "output_type": "display_data"
    },
    {
     "data": {
      "text/html": [
       "<pre>+--------------------------------+------------+</pre>"
      ],
      "text/plain": [
       "+--------------------------------+------------+"
      ]
     },
     "metadata": {},
     "output_type": "display_data"
    },
    {
     "data": {
      "text/html": [
       "<pre>Setting up lookup tables.</pre>"
      ],
      "text/plain": [
       "Setting up lookup tables."
      ]
     },
     "metadata": {},
     "output_type": "display_data"
    },
    {
     "data": {
      "text/html": [
       "<pre>Processing data in one pass using dense lookup tables.</pre>"
      ],
      "text/plain": [
       "Processing data in one pass using dense lookup tables."
      ]
     },
     "metadata": {},
     "output_type": "display_data"
    },
    {
     "data": {
      "text/html": [
       "<pre>+-------------------------------------+------------------+-----------------+</pre>"
      ],
      "text/plain": [
       "+-------------------------------------+------------------+-----------------+"
      ]
     },
     "metadata": {},
     "output_type": "display_data"
    },
    {
     "data": {
      "text/html": [
       "<pre>| Elapsed Time (Constructing Lookups) | Total % Complete | Items Processed |</pre>"
      ],
      "text/plain": [
       "| Elapsed Time (Constructing Lookups) | Total % Complete | Items Processed |"
      ]
     },
     "metadata": {},
     "output_type": "display_data"
    },
    {
     "data": {
      "text/html": [
       "<pre>+-------------------------------------+------------------+-----------------+</pre>"
      ],
      "text/plain": [
       "+-------------------------------------+------------------+-----------------+"
      ]
     },
     "metadata": {},
     "output_type": "display_data"
    },
    {
     "data": {
      "text/html": [
       "<pre>| 0us                                 | 14.75            | 13              |</pre>"
      ],
      "text/plain": [
       "| 0us                                 | 14.75            | 13              |"
      ]
     },
     "metadata": {},
     "output_type": "display_data"
    },
    {
     "data": {
      "text/html": [
       "<pre>| 0us                                 | 100              | 93              |</pre>"
      ],
      "text/plain": [
       "| 0us                                 | 100              | 93              |"
      ]
     },
     "metadata": {},
     "output_type": "display_data"
    },
    {
     "data": {
      "text/html": [
       "<pre>+-------------------------------------+------------------+-----------------+</pre>"
      ],
      "text/plain": [
       "+-------------------------------------+------------------+-----------------+"
      ]
     },
     "metadata": {},
     "output_type": "display_data"
    },
    {
     "data": {
      "text/html": [
       "<pre>Finalizing lookup tables.</pre>"
      ],
      "text/plain": [
       "Finalizing lookup tables."
      ]
     },
     "metadata": {},
     "output_type": "display_data"
    },
    {
     "data": {
      "text/html": [
       "<pre>Generating candidate set for working with new users.</pre>"
      ],
      "text/plain": [
       "Generating candidate set for working with new users."
      ]
     },
     "metadata": {},
     "output_type": "display_data"
    },
    {
     "data": {
      "text/html": [
       "<pre>Finished training in 0.004016s</pre>"
      ],
      "text/plain": [
       "Finished training in 0.004016s"
      ]
     },
     "metadata": {},
     "output_type": "display_data"
    },
    {
     "name": "stdout",
     "output_type": "stream",
     "text": [
      "+--------+-------------------------------+----------------+------+\n",
      "| users  |            v_title            |     score      | rank |\n",
      "+--------+-------------------------------+----------------+------+\n",
      "| Kathir | TRY NOT TO LAUGH (IMPOSSIB... | 0.13483302521  |  1   |\n",
      "| Kathir | 1 MILLION ORBEEZ IN GIRLFR... | 0.126400252183 |  2   |\n",
      "| Kathir | Headless man Prank part 2 ... | 0.126400252183 |  3   |\n",
      "| Kathir | *I BET  MY KIDNEY YOU WILL... | 0.122461864443 |  4   |\n",
      "| Kathir |   TRY NOT TO LAUGH CHALLENGE  | 0.120700836182 |  5   |\n",
      "| Kathir | *The Real* Try Not To Laug... | 0.120700836182 |  6   |\n",
      "| Kathir | CRAZY SNAKE PRANK ON GIRLF... | 0.120700836182 |  7   |\n",
      "| Kathir | *IMPOSSIBLE CHALLENGE* Try... | 0.120700836182 |  8   |\n",
      "| Kathir |      Bait Backpack Prank      | 0.120700836182 |  9   |\n",
      "| Kathir | GOLD DIGGER PRANK PART 3! ... | 0.120700836182 |  10  |\n",
      "|  MSD   | THE WORST PRANK OF ALL TIM... | 0.199231845768 |  1   |\n",
      "|  MSD   |   ITCHING BAIT PHONE PRANK!!  | 0.199231845768 |  2   |\n",
      "|  MSD   | FIDGET SPINNER IN HAPPY ME... | 0.177865547569 |  3   |\n",
      "|  MSD   | 1 MILLION ORBEEZ IN GIRLFR... | 0.152656969271 |  4   |\n",
      "|  MSD   | Headless man Prank part 2 ... | 0.152656969271 |  5   |\n",
      "|  MSD   | IMPOSSIBLE NOT TO LAUGH - ... | 0.152307731541 |  6   |\n",
      "|  MSD   | GOLD DIGGER PRANK PART 2! ... | 0.150918289235 |  7   |\n",
      "|  MSD   | I WANT TO MAKE A BABY WITH... | 0.129099403557 |  8   |\n",
      "|  MSD   | BREAKING UP WITH MY GIRLFR... | 0.129099403557 |  9   |\n",
      "|  MSD   | Epic Prank Compilation: Pa... | 0.129099403557 |  10  |\n",
      "| MarkZ  | Try to Watch This Without ... | 0.125484783398 |  1   |\n",
      "| MarkZ  | HARDEST VERSION AFV Try No... | 0.125484783398 |  2   |\n",
      "| MarkZ  | Try Not To Laugh or Grin -... | 0.125484783398 |  3   |\n",
      "| MarkZ  | GOLD DIGGER PRANK PART 2! ... | 0.118067016727 |  4   |\n",
      "| MarkZ  | TRY NOT TO LAUGH or GRIN: ... | 0.114741406943 |  5   |\n",
      "+--------+-------------------------------+----------------+------+\n",
      "[60 rows x 4 columns]\n",
      "\n"
     ]
    }
   ],
   "source": [
    "#Train Model\n",
    "sim_model = graphlab.item_similarity_recommender.create(train_data, user_id='users', item_id='v_title', target='Liked', similarity_type='cosine')\n",
    "\n",
    "#Make Recommendations:\n",
    "sim_recomm = sim_model.recommend(users=u_names,k=10)\n",
    "sim_recomm.print_rows(num_rows=25)"
   ]
  },
  {
   "cell_type": "code",
   "execution_count": 14,
   "metadata": {
    "collapsed": false
   },
   "outputs": [
    {
     "name": "stdout",
     "output_type": "stream",
     "text": [
      "PROGRESS: Evaluate model M0\n",
      "\n",
      "Precision and recall summary statistics by cutoff\n",
      "+--------+----------------+-----------------+\n",
      "| cutoff | mean_precision |   mean_recall   |\n",
      "+--------+----------------+-----------------+\n",
      "|   1    |      1.0       | 0.0170304327911 |\n",
      "|   2    |      1.0       | 0.0340608655823 |\n",
      "|   3    |      1.0       | 0.0510912983734 |\n",
      "|   4    |      1.0       | 0.0681217311646 |\n",
      "|   5    |      1.0       | 0.0851521639557 |\n",
      "|   6    |      1.0       |  0.102182596747 |\n",
      "|   7    |      1.0       |  0.119213029538 |\n",
      "|   8    |      1.0       |  0.136243462329 |\n",
      "|   9    |      1.0       |  0.15327389512  |\n",
      "|   10   |      1.0       |  0.170304327911 |\n",
      "+--------+----------------+-----------------+\n",
      "[10 rows x 3 columns]\n",
      "\n",
      "PROGRESS: Evaluate model M1\n",
      "\n",
      "Precision and recall summary statistics by cutoff\n",
      "+--------+----------------+-----------------+\n",
      "| cutoff | mean_precision |   mean_recall   |\n",
      "+--------+----------------+-----------------+\n",
      "|   1    |      1.0       | 0.0170304327911 |\n",
      "|   2    |      1.0       | 0.0340608655823 |\n",
      "|   3    |      1.0       | 0.0510912983734 |\n",
      "|   4    |      1.0       | 0.0681217311646 |\n",
      "|   5    |      1.0       | 0.0851521639557 |\n",
      "|   6    |      1.0       |  0.102182596747 |\n",
      "|   7    |      1.0       |  0.119213029538 |\n",
      "|   8    |      1.0       |  0.136243462329 |\n",
      "|   9    |      1.0       |  0.15327389512  |\n",
      "|   10   |      1.0       |  0.170304327911 |\n",
      "+--------+----------------+-----------------+\n",
      "[10 rows x 3 columns]\n",
      "\n",
      "Model compare metric: precision_recall\n",
      "Canvas is accessible via web browser at the URL: http://localhost:61511/index.html\n",
      "Opening Canvas in default web browser.\n"
     ]
    }
   ],
   "source": [
    "project_performance = graphlab.compare(test_data, [popularity_model, sim_model])\n",
    "graphlab.show_comparison(project_performance,[popularity_model, sim_model])"
   ]
  },
  {
   "cell_type": "code",
   "execution_count": null,
   "metadata": {
    "collapsed": true
   },
   "outputs": [],
   "source": []
  }
 ],
 "metadata": {
  "kernelspec": {
   "display_name": "Python 2",
   "language": "python",
   "name": "python2"
  },
  "language_info": {
   "codemirror_mode": {
    "name": "ipython",
    "version": 2
   },
   "file_extension": ".py",
   "mimetype": "text/x-python",
   "name": "python",
   "nbconvert_exporter": "python",
   "pygments_lexer": "ipython2",
   "version": "2.7.13"
  }
 },
 "nbformat": 4,
 "nbformat_minor": 0
}
